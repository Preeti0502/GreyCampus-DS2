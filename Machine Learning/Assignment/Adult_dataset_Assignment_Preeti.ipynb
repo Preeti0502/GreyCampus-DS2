{
 "cells": [
  {
   "cell_type": "markdown",
   "metadata": {
    "_uuid": "89ef93231815456f4e0bc5dcc00b094aee800993"
   },
   "source": [
    "# ASSIGNMENT (Adult Dataset)"
   ]
  },
  {
   "cell_type": "markdown",
   "metadata": {},
   "source": [
    "Name: Kuwar Preetikumari Lalbahadur"
   ]
  },
  {
   "cell_type": "code",
   "execution_count": null,
   "metadata": {},
   "outputs": [],
   "source": []
  },
  {
   "cell_type": "markdown",
   "metadata": {},
   "source": [
    "**In this task you should use Pandas to answer a few questions about the Adult Dataset(provided)."
   ]
  },
  {
   "cell_type": "markdown",
   "metadata": {
    "_uuid": "c322301ac858c748f8f80e63cf6f734fc70dde30"
   },
   "source": [
    "Unique values of all features:\n",
    "- `age`: continuous.\n",
    "- `workclass`: Private, Self-emp-not-inc, Self-emp-inc, Federal-gov, Local-gov, State-gov, Without-pay, Never-worked.\n",
    "- `fnlwgt`: continuous.\n",
    "- `education`: Bachelors, Some-college, 11th, HS-grad, Prof-school, Assoc-acdm, Assoc-voc, 9th, 7th-8th, 12th, Masters, 1st-4th, 10th, Doctorate, 5th-6th, Preschool.\n",
    "- `education-num`: continuous.\n",
    "- `marital-status`: Married-civ-spouse, Divorced, Never-married, Separated, Widowed, Married-spouse-absent, Married-AF-spouse.\n",
    "- `occupation`: Tech-support, Craft-repair, Other-service, Sales, Exec-managerial, Prof-specialty, Handlers-cleaners, Machine-op-inspct, Adm-clerical, Farming-fishing, Transport-moving, Priv-house-serv, Protective-serv, Armed-Forces.\n",
    "- `relationship`: Wife, Own-child, Husband, Not-in-family, Other-relative, Unmarried.\n",
    "- `race`: White, Asian-Pac-Islander, Amer-Indian-Eskimo, Other, Black.\n",
    "- `sex`: Female, Male.\n",
    "- `capital-gain`: continuous.\n",
    "- `capital-loss`: continuous.\n",
    "- `hours-per-week`: continuous.\n",
    "- `native-country`: United-States, Cambodia, England, Puerto-Rico, Canada, Germany, Outlying-US(Guam-USVI-etc), India, Japan, Greece, South, China, Cuba, Iran, Honduras, Philippines, Italy, Poland, Jamaica, Vietnam, Mexico, Portugal, Ireland, France, Dominican-Republic, Laos, Ecuador, Taiwan, Haiti, Columbia, Hungary, Guatemala, Nicaragua, Scotland, Thailand, Yugoslavia, El-Salvador, Trinadad&Tobago, Peru, Hong, Holand-Netherlands.   \n",
    "- `salary`: >50K,<=50K"
   ]
  },
  {
   "cell_type": "code",
   "execution_count": 1,
   "metadata": {
    "_uuid": "d3eb2411e23b7db11e4cbbb498a42752442a6f4c"
   },
   "outputs": [],
   "source": [
    "import pandas as pd"
   ]
  },
  {
   "cell_type": "code",
   "execution_count": 2,
   "metadata": {
    "_uuid": "c5119d1b8151029b4ff57735c4279b795ae492a2"
   },
   "outputs": [
    {
     "data": {
      "text/html": [
       "<div>\n",
       "<style scoped>\n",
       "    .dataframe tbody tr th:only-of-type {\n",
       "        vertical-align: middle;\n",
       "    }\n",
       "\n",
       "    .dataframe tbody tr th {\n",
       "        vertical-align: top;\n",
       "    }\n",
       "\n",
       "    .dataframe thead th {\n",
       "        text-align: right;\n",
       "    }\n",
       "</style>\n",
       "<table border=\"1\" class=\"dataframe\">\n",
       "  <thead>\n",
       "    <tr style=\"text-align: right;\">\n",
       "      <th></th>\n",
       "      <th>age</th>\n",
       "      <th>workclass</th>\n",
       "      <th>fnlwgt</th>\n",
       "      <th>education</th>\n",
       "      <th>education-num</th>\n",
       "      <th>marital-status</th>\n",
       "      <th>occupation</th>\n",
       "      <th>relationship</th>\n",
       "      <th>race</th>\n",
       "      <th>sex</th>\n",
       "      <th>capitalgain</th>\n",
       "      <th>capitalloss</th>\n",
       "      <th>hoursperweek</th>\n",
       "      <th>native-country</th>\n",
       "      <th>class</th>\n",
       "    </tr>\n",
       "  </thead>\n",
       "  <tbody>\n",
       "    <tr>\n",
       "      <th>0</th>\n",
       "      <td>2</td>\n",
       "      <td>State-gov</td>\n",
       "      <td>77516</td>\n",
       "      <td>Bachelors</td>\n",
       "      <td>13</td>\n",
       "      <td>Never-married</td>\n",
       "      <td>Adm-clerical</td>\n",
       "      <td>Not-in-family</td>\n",
       "      <td>White</td>\n",
       "      <td>Male</td>\n",
       "      <td>1</td>\n",
       "      <td>0</td>\n",
       "      <td>2</td>\n",
       "      <td>United-States</td>\n",
       "      <td>&lt;=50K</td>\n",
       "    </tr>\n",
       "    <tr>\n",
       "      <th>1</th>\n",
       "      <td>3</td>\n",
       "      <td>Self-emp-not-inc</td>\n",
       "      <td>83311</td>\n",
       "      <td>Bachelors</td>\n",
       "      <td>13</td>\n",
       "      <td>Married-civ-spouse</td>\n",
       "      <td>Exec-managerial</td>\n",
       "      <td>Husband</td>\n",
       "      <td>White</td>\n",
       "      <td>Male</td>\n",
       "      <td>0</td>\n",
       "      <td>0</td>\n",
       "      <td>0</td>\n",
       "      <td>United-States</td>\n",
       "      <td>&lt;=50K</td>\n",
       "    </tr>\n",
       "    <tr>\n",
       "      <th>2</th>\n",
       "      <td>2</td>\n",
       "      <td>Private</td>\n",
       "      <td>215646</td>\n",
       "      <td>HS-grad</td>\n",
       "      <td>9</td>\n",
       "      <td>Divorced</td>\n",
       "      <td>Handlers-cleaners</td>\n",
       "      <td>Not-in-family</td>\n",
       "      <td>White</td>\n",
       "      <td>Male</td>\n",
       "      <td>0</td>\n",
       "      <td>0</td>\n",
       "      <td>2</td>\n",
       "      <td>United-States</td>\n",
       "      <td>&lt;=50K</td>\n",
       "    </tr>\n",
       "    <tr>\n",
       "      <th>3</th>\n",
       "      <td>3</td>\n",
       "      <td>Private</td>\n",
       "      <td>234721</td>\n",
       "      <td>11th</td>\n",
       "      <td>7</td>\n",
       "      <td>Married-civ-spouse</td>\n",
       "      <td>Handlers-cleaners</td>\n",
       "      <td>Husband</td>\n",
       "      <td>Black</td>\n",
       "      <td>Male</td>\n",
       "      <td>0</td>\n",
       "      <td>0</td>\n",
       "      <td>2</td>\n",
       "      <td>United-States</td>\n",
       "      <td>&lt;=50K</td>\n",
       "    </tr>\n",
       "    <tr>\n",
       "      <th>4</th>\n",
       "      <td>1</td>\n",
       "      <td>Private</td>\n",
       "      <td>338409</td>\n",
       "      <td>Bachelors</td>\n",
       "      <td>13</td>\n",
       "      <td>Married-civ-spouse</td>\n",
       "      <td>Prof-specialty</td>\n",
       "      <td>Wife</td>\n",
       "      <td>Black</td>\n",
       "      <td>Female</td>\n",
       "      <td>0</td>\n",
       "      <td>0</td>\n",
       "      <td>2</td>\n",
       "      <td>Cuba</td>\n",
       "      <td>&lt;=50K</td>\n",
       "    </tr>\n",
       "  </tbody>\n",
       "</table>\n",
       "</div>"
      ],
      "text/plain": [
       "   age         workclass  fnlwgt  education  education-num  \\\n",
       "0    2         State-gov   77516  Bachelors             13   \n",
       "1    3  Self-emp-not-inc   83311  Bachelors             13   \n",
       "2    2           Private  215646    HS-grad              9   \n",
       "3    3           Private  234721       11th              7   \n",
       "4    1           Private  338409  Bachelors             13   \n",
       "\n",
       "       marital-status         occupation   relationship   race     sex  \\\n",
       "0       Never-married       Adm-clerical  Not-in-family  White    Male   \n",
       "1  Married-civ-spouse    Exec-managerial        Husband  White    Male   \n",
       "2            Divorced  Handlers-cleaners  Not-in-family  White    Male   \n",
       "3  Married-civ-spouse  Handlers-cleaners        Husband  Black    Male   \n",
       "4  Married-civ-spouse     Prof-specialty           Wife  Black  Female   \n",
       "\n",
       "   capitalgain  capitalloss  hoursperweek native-country  class  \n",
       "0            1            0             2  United-States  <=50K  \n",
       "1            0            0             0  United-States  <=50K  \n",
       "2            0            0             2  United-States  <=50K  \n",
       "3            0            0             2  United-States  <=50K  \n",
       "4            0            0             2           Cuba  <=50K  "
      ]
     },
     "execution_count": 2,
     "metadata": {},
     "output_type": "execute_result"
    }
   ],
   "source": [
    "data = pd.read_csv(r'D:\\DOWNLOADS\\adult_csv.csv')\n",
    "data.head()"
   ]
  },
  {
   "cell_type": "markdown",
   "metadata": {
    "_uuid": "6b19853f936853d40971b56f4d298ab55ee78cac"
   },
   "source": [
    "**1. How many men and women (*sex* feature) are represented in this dataset?** "
   ]
  },
  {
   "cell_type": "code",
   "execution_count": 3,
   "metadata": {
    "_uuid": "d32cafcbe966dbdfa40c3017d16d6f8c96bfb3e2"
   },
   "outputs": [
    {
     "data": {
      "text/plain": [
       "Male      32650\n",
       "Female    16192\n",
       "Name: sex, dtype: int64"
      ]
     },
     "execution_count": 3,
     "metadata": {},
     "output_type": "execute_result"
    }
   ],
   "source": [
    "data['sex'].value_counts()"
   ]
  },
  {
   "cell_type": "code",
   "execution_count": 4,
   "metadata": {},
   "outputs": [],
   "source": [
    "## There were total 32650 men and 16192 women represented in the dataset. "
   ]
  },
  {
   "cell_type": "markdown",
   "metadata": {
    "_uuid": "4748793234a5d325ea60d13331ecf93e29774523"
   },
   "source": [
    "**2. What is the average age (*age* feature) of women?**"
   ]
  },
  {
   "cell_type": "code",
   "execution_count": 5,
   "metadata": {
    "_uuid": "64f60d928855107d8980875656dcdf3587d91646"
   },
   "outputs": [
    {
     "data": {
      "text/plain": [
       "1.6038784584980237"
      ]
     },
     "execution_count": 5,
     "metadata": {},
     "output_type": "execute_result"
    }
   ],
   "source": [
    "data.loc[data['sex']=='Female','age'].mean()"
   ]
  },
  {
   "cell_type": "code",
   "execution_count": 6,
   "metadata": {},
   "outputs": [],
   "source": [
    "## The average age for female was 1.60"
   ]
  },
  {
   "cell_type": "markdown",
   "metadata": {
    "_uuid": "80e87c421c348067e88769c64e554206c51727d1"
   },
   "source": [
    "**3. What is the percentage of German citizens (*native-country* feature)?**"
   ]
  },
  {
   "cell_type": "code",
   "execution_count": 7,
   "metadata": {
    "_uuid": "ca9807509692638bd945671ed7d8b4a5ad1f3626"
   },
   "outputs": [
    {
     "data": {
      "text/plain": [
       "0.421768150362393"
      ]
     },
     "execution_count": 7,
     "metadata": {},
     "output_type": "execute_result"
    }
   ],
   "source": [
    "(data['native-country']=='Germany').sum()*100/data.shape[0]"
   ]
  },
  {
   "cell_type": "code",
   "execution_count": 8,
   "metadata": {},
   "outputs": [],
   "source": [
    "## There were only 0.42% people from Germany."
   ]
  },
  {
   "cell_type": "markdown",
   "metadata": {
    "_uuid": "be9911cf525df4fca2c1d14b8720bc8a82f462e7"
   },
   "source": [
    "**4-5. What are the mean and standard deviation of age for those who earn more than 50K per year (*salary* feature) and those who earn less than 50K per year? **"
   ]
  },
  {
   "cell_type": "code",
   "execution_count": 9,
   "metadata": {
    "_uuid": "97948f0115f949913d211627151b5605bcd204fd"
   },
   "outputs": [
    {
     "name": "stdout",
     "output_type": "stream",
     "text": [
      "Mean for age grp who earn greater than 50K is 2.35 \n",
      " Standard deviation for age grp who earn greater than 50K is 1.01 \n",
      "\n",
      "Mean for age grp who earn less than 50K is 1.59 \n",
      " Standard deviation for age grp who earn less than 50K is 1.32\n"
     ]
    }
   ],
   "source": [
    "age1=data.loc[data['class'] == '>50K', 'age']\n",
    "print('Mean for age grp who earn greater than 50K is', round(age1.mean(),2),'\\n','Standard deviation for age grp who earn greater than 50K is',round(age1.std(),2),'\\n')\n",
    "\n",
    "age2=data.loc[data['class'] == '<=50K', 'age']\n",
    "print('Mean for age grp who earn less than 50K is',round(age2.mean(),2),'\\n','Standard deviation for age grp who earn less than 50K is',round(age2.std(),2))"
   ]
  },
  {
   "cell_type": "markdown",
   "metadata": {
    "_uuid": "180c3fe6f8b250b877c1d86866067b80acabdb64"
   },
   "source": [
    "**6. Is it true that people who earn more than 50K have at least high school education? (*education – Bachelors, Prof-school, Assoc-acdm, Assoc-voc, Masters* or *Doctorate* feature)**"
   ]
  },
  {
   "cell_type": "code",
   "execution_count": 10,
   "metadata": {},
   "outputs": [
    {
     "data": {
      "text/plain": [
       "False"
      ]
     },
     "execution_count": 10,
     "metadata": {},
     "output_type": "execute_result"
    }
   ],
   "source": [
    "edu=['Bachelors', 'Prof-school', 'Assoc-acdm', 'Assoc-voc', 'Masters', 'Doctorate']\n",
    "data.loc[data['class']=='>50K','education'].isin(edu).all()"
   ]
  },
  {
   "cell_type": "code",
   "execution_count": 11,
   "metadata": {},
   "outputs": [],
   "source": [
    "## Its not that people who earn more than 50K have atleast high school degree. "
   ]
  },
  {
   "cell_type": "code",
   "execution_count": 12,
   "metadata": {},
   "outputs": [
    {
     "data": {
      "text/plain": [
       "Bachelors       3313\n",
       "HS-grad         2503\n",
       "Some-college    2063\n",
       "Masters         1459\n",
       "Prof-school      617\n",
       "Assoc-voc        522\n",
       "Doctorate        431\n",
       "Assoc-acdm       413\n",
       "11th              92\n",
       "10th              87\n",
       "7th-8th           62\n",
       "12th              48\n",
       "9th               41\n",
       "5th-6th           27\n",
       "1st-4th            8\n",
       "Preschool          1\n",
       "Name: education, dtype: int64"
      ]
     },
     "execution_count": 12,
     "metadata": {},
     "output_type": "execute_result"
    }
   ],
   "source": [
    "data.loc[data['class']=='>50K', 'education'].value_counts()"
   ]
  },
  {
   "cell_type": "code",
   "execution_count": 13,
   "metadata": {},
   "outputs": [],
   "source": [
    "## Thetre are also people who completed their education till 'HS-grad', 'Some-college' level and still earn greater than 50K."
   ]
  },
  {
   "cell_type": "markdown",
   "metadata": {
    "_uuid": "87d6bc9ec1c230e66416ce94533ea250368009cc"
   },
   "source": [
    "**7. Display age statistics for each race (*race* feature) and each gender (*sex* feature). Use *groupby()* and *describe()*. Find the maximum age of men of *Amer-Indian-Eskimo* race.**"
   ]
  },
  {
   "cell_type": "code",
   "execution_count": 14,
   "metadata": {
    "_uuid": "a4567b72200b583f7f2ee1583405d636c12169db"
   },
   "outputs": [
    {
     "name": "stdout",
     "output_type": "stream",
     "text": [
      "Race: Amer-Indian-Eskimo, sex: Female\n",
      "count    185.000000\n",
      "mean       1.583784\n",
      "std        1.274651\n",
      "min        0.000000\n",
      "25%        1.000000\n",
      "50%        1.000000\n",
      "75%        3.000000\n",
      "max        4.000000\n",
      "Name: age, dtype: float64 \n",
      "\n",
      "Race: Amer-Indian-Eskimo, sex: Male\n",
      "count    285.000000\n",
      "mean       1.603509\n",
      "std        1.135528\n",
      "min        0.000000\n",
      "25%        1.000000\n",
      "50%        1.000000\n",
      "75%        2.000000\n",
      "max        4.000000\n",
      "Name: age, dtype: float64 \n",
      "\n",
      "Race: Asian-Pac-Islander, sex: Female\n",
      "count    517.000000\n",
      "mean       1.481625\n",
      "std        1.211281\n",
      "min        0.000000\n",
      "25%        0.000000\n",
      "50%        1.000000\n",
      "75%        2.000000\n",
      "max        4.000000\n",
      "Name: age, dtype: float64 \n",
      "\n",
      "Race: Asian-Pac-Islander, sex: Male\n",
      "count    1002.000000\n",
      "mean        1.782435\n",
      "std         1.197137\n",
      "min         0.000000\n",
      "25%         1.000000\n",
      "50%         2.000000\n",
      "75%         3.000000\n",
      "max         4.000000\n",
      "Name: age, dtype: float64 \n",
      "\n",
      "Race: Black, sex: Female\n",
      "count    2308.000000\n",
      "mean        1.712738\n",
      "std         1.240228\n",
      "min         0.000000\n",
      "25%         1.000000\n",
      "50%         2.000000\n",
      "75%         3.000000\n",
      "max         4.000000\n",
      "Name: age, dtype: float64 \n",
      "\n",
      "Race: Black, sex: Male\n",
      "count    2377.000000\n",
      "mean        1.711822\n",
      "std         1.254554\n",
      "min         0.000000\n",
      "25%         1.000000\n",
      "50%         2.000000\n",
      "75%         3.000000\n",
      "max         4.000000\n",
      "Name: age, dtype: float64 \n",
      "\n",
      "Race: Other, sex: Female\n",
      "count    155.000000\n",
      "mean       1.090323\n",
      "std        1.107048\n",
      "min        0.000000\n",
      "25%        0.000000\n",
      "50%        1.000000\n",
      "75%        2.000000\n",
      "max        4.000000\n",
      "Name: age, dtype: float64 \n",
      "\n",
      "Race: Other, sex: Male\n",
      "count    251.000000\n",
      "mean       1.454183\n",
      "std        1.156241\n",
      "min        0.000000\n",
      "25%        1.000000\n",
      "50%        1.000000\n",
      "75%        2.000000\n",
      "max        4.000000\n",
      "Name: age, dtype: float64 \n",
      "\n",
      "Race: White, sex: Female\n",
      "count    13027.000000\n",
      "mean         1.595839\n",
      "std          1.352648\n",
      "min          0.000000\n",
      "25%          0.000000\n",
      "50%          1.000000\n",
      "75%          3.000000\n",
      "max          4.000000\n",
      "Name: age, dtype: float64 \n",
      "\n",
      "Race: White, sex: Male\n",
      "count    28735.00000\n",
      "mean         1.87423\n",
      "std          1.27318\n",
      "min          0.00000\n",
      "25%          1.00000\n",
      "50%          2.00000\n",
      "75%          3.00000\n",
      "max          4.00000\n",
      "Name: age, dtype: float64 \n",
      "\n"
     ]
    }
   ],
   "source": [
    "for (race, sex), sub_df in data.groupby(['race', 'sex']):  \n",
    "    print(\"Race: {0}, sex: {1}\".format(race, sex))         \n",
    "    print(sub_df['age'].describe(),'\\n')"
   ]
  },
  {
   "cell_type": "code",
   "execution_count": 15,
   "metadata": {},
   "outputs": [],
   "source": [
    "## The maximum age of men of Amer-Indian-Eskimo race is 4."
   ]
  },
  {
   "cell_type": "markdown",
   "metadata": {
    "_uuid": "19411d604b0d4337a4a048a2f0e898541f39ab76"
   },
   "source": [
    "**8. Among whom is the proportion of those who earn a lot (>50K) greater: married or single men (*marital-status* feature)? Consider as married those who have a *marital-status* starting with *Married* (Married-civ-spouse, Married-spouse-absent or Married-AF-spouse), the rest are considered bachelors.**"
   ]
  },
  {
   "cell_type": "code",
   "execution_count": 16,
   "metadata": {
    "_uuid": "5bb3a8524fcbd794707075ccf6aaf8dd0f30a3dd"
   },
   "outputs": [
    {
     "data": {
      "text/plain": [
       "array(['Never-married', 'Married-civ-spouse', 'Divorced',\n",
       "       'Married-spouse-absent', 'Separated', 'Married-AF-spouse',\n",
       "       'Widowed'], dtype=object)"
      ]
     },
     "execution_count": 16,
     "metadata": {},
     "output_type": "execute_result"
    }
   ],
   "source": [
    "## Unique values of marital-status \n",
    "\n",
    "data['marital-status'].unique()"
   ]
  },
  {
   "cell_type": "code",
   "execution_count": 17,
   "metadata": {},
   "outputs": [
    {
     "data": {
      "text/plain": [
       "<=50K    11414\n",
       ">50K      1001\n",
       "Name: class, dtype: int64"
      ]
     },
     "execution_count": 17,
     "metadata": {},
     "output_type": "execute_result"
    }
   ],
   "source": [
    "## Number of unmarried men earning more than 50K and less than 50K \n",
    "\n",
    "data.loc[(data['sex'] == 'Male') &\n",
    "     (data['marital-status'].isin(['Never-married', \n",
    "                                   'Separated', \n",
    "                                   'Divorced',\n",
    "                                   'Widowed'])), 'class'].value_counts()"
   ]
  },
  {
   "cell_type": "code",
   "execution_count": 18,
   "metadata": {},
   "outputs": [
    {
     "data": {
      "text/plain": [
       "<=50K    11318\n",
       ">50K      8917\n",
       "Name: class, dtype: int64"
      ]
     },
     "execution_count": 18,
     "metadata": {},
     "output_type": "execute_result"
    }
   ],
   "source": [
    "## Number of married men earning more than 50K and less than 50K \n",
    "\n",
    "data.loc[(data['sex'] == 'Male') &\n",
    "     (data['marital-status'].isin(['Married-civ-spouse', \n",
    "                                   'Married-spouse-absent', \n",
    "                                   'Married-AF-spouse'])), 'class'].value_counts()"
   ]
  },
  {
   "cell_type": "code",
   "execution_count": 19,
   "metadata": {},
   "outputs": [],
   "source": [
    "## Number of Married men earning more than 50K is more than that of unmarried men."
   ]
  },
  {
   "cell_type": "markdown",
   "metadata": {
    "_uuid": "34f2076e7d331b95a23b990372809b709d2c8183"
   },
   "source": [
    "**9. What is the maximum number of hours a person works per week (*hours-per-week* feature)? How many people work such a number of hours, and what is the percentage of those who earn a lot (>50K) among them?**"
   ]
  },
  {
   "cell_type": "code",
   "execution_count": 20,
   "metadata": {
    "_uuid": "3571468172fc4bcf34e10b3d6ab358d4e41f7ef4"
   },
   "outputs": [
    {
     "name": "stdout",
     "output_type": "stream",
     "text": [
      "Maximum number of hours a person works per week : 4 \n",
      "\n",
      "1676 people work 4 hours \n",
      "\n",
      "Percentage:  35.74 %\n"
     ]
    }
   ],
   "source": [
    "print('Maximum number of hours a person works per week :' ,data['hoursperweek'].max(),'\\n')\n",
    "no_of_people = data.loc[data['hoursperweek'] == data['hoursperweek'].max()].count().max()\n",
    "print(no_of_people,'people work',data['hoursperweek'].max(),'hours','\\n')\n",
    "maxhours_maxsalary=(data.loc[data['hoursperweek'] == data['hoursperweek'].max()]['class'] == '>50K').value_counts()\n",
    "percentage=((maxhours_maxsalary[True])/no_of_people)*100\n",
    "print('Percentage: ',round(percentage,2),'%')"
   ]
  },
  {
   "cell_type": "markdown",
   "metadata": {
    "_uuid": "d539d4d137fac1c5ea25bc516188eb657d67e9b4"
   },
   "source": [
    "**10. Count the average time of work (*hours-per-week*) for those who earn a little and a lot (*salary*) for each country (*native-country*). What will these be for Japan?**"
   ]
  },
  {
   "cell_type": "code",
   "execution_count": 21,
   "metadata": {},
   "outputs": [
    {
     "name": "stdout",
     "output_type": "stream",
     "text": [
      "Cambodia <=50K mean_time: 2.05\n",
      "Cambodia >50K mean_time: 2.22\n",
      "Canada <=50K mean_time: 1.74\n",
      "Canada >50K mean_time: 2.4\n",
      "China <=50K mean_time: 1.67\n",
      "China >50K mean_time: 2.0\n",
      "Columbia <=50K mean_time: 1.83\n",
      "Columbia >50K mean_time: 3.0\n",
      "Cuba <=50K mean_time: 1.88\n",
      "Cuba >50K mean_time: 2.09\n",
      "Dominican-Republic <=50K mean_time: 2.03\n",
      "Dominican-Republic >50K mean_time: 2.2\n",
      "Ecuador <=50K mean_time: 1.79\n",
      "Ecuador >50K mean_time: 2.67\n",
      "El-Salvador <=50K mean_time: 1.65\n",
      "El-Salvador >50K mean_time: 2.09\n",
      "England <=50K mean_time: 1.82\n",
      "England >50K mean_time: 2.4\n",
      "France <=50K mean_time: 1.95\n",
      "France >50K mean_time: 2.31\n",
      "Germany <=50K mean_time: 1.84\n",
      "Germany >50K mean_time: 2.36\n",
      "Greece <=50K mean_time: 2.03\n",
      "Greece >50K mean_time: 2.94\n",
      "Guatemala <=50K mean_time: 1.89\n",
      "Guatemala >50K mean_time: 1.67\n",
      "Haiti <=50K mean_time: 1.65\n",
      "Haiti >50K mean_time: 1.89\n",
      "Holand-Netherlands <=50K mean_time: 2.0\n",
      "Honduras <=50K mean_time: 1.39\n",
      "Honduras >50K mean_time: 2.5\n",
      "Hong <=50K mean_time: 1.86\n",
      "Hong >50K mean_time: 2.25\n",
      "Hungary <=50K mean_time: 1.54\n",
      "Hungary >50K mean_time: 2.5\n",
      "India <=50K mean_time: 1.74\n",
      "India >50K mean_time: 2.42\n",
      "Iran <=50K mean_time: 1.95\n",
      "Iran >50K mean_time: 2.5\n",
      "Ireland <=50K mean_time: 2.0\n",
      "Ireland >50K mean_time: 2.27\n",
      "Italy <=50K mean_time: 1.8\n",
      "Italy >50K mean_time: 2.35\n",
      "Jamaica <=50K mean_time: 1.77\n",
      "Jamaica >50K mean_time: 2.2\n",
      "Japan <=50K mean_time: 1.9\n",
      "Japan >50K mean_time: 2.44\n",
      "Laos <=50K mean_time: 1.86\n",
      "Laos >50K mean_time: 2.0\n",
      "Mexico <=50K mean_time: 1.91\n",
      "Mexico >50K mean_time: 2.32\n",
      "Nicaragua <=50K mean_time: 1.72\n",
      "Nicaragua >50K mean_time: 1.67\n",
      "Outlying-US(Guam-USVI-etc) <=50K mean_time: 2.0\n",
      "Outlying-US(Guam-USVI-etc) >50K mean_time: 2.0\n",
      "Peru <=50K mean_time: 1.67\n",
      "Peru >50K mean_time: 2.0\n",
      "Philippines <=50K mean_time: 1.79\n",
      "Philippines >50K mean_time: 2.21\n",
      "Poland <=50K mean_time: 1.73\n",
      "Poland >50K mean_time: 2.0\n",
      "Portugal <=50K mean_time: 2.0\n",
      "Portugal >50K mean_time: 2.5\n",
      "Puerto-Rico <=50K mean_time: 1.85\n",
      "Puerto-Rico >50K mean_time: 2.0\n",
      "Scotland <=50K mean_time: 1.94\n",
      "Scotland >50K mean_time: 2.33\n",
      "South <=50K mean_time: 1.96\n",
      "South >50K mean_time: 2.75\n",
      "Taiwan <=50K mean_time: 1.62\n",
      "Taiwan >50K mean_time: 2.31\n",
      "Thailand <=50K mean_time: 2.08\n",
      "Thailand >50K mean_time: 3.0\n",
      "Trinadad&Tobago <=50K mean_time: 1.88\n",
      "Trinadad&Tobago >50K mean_time: 2.0\n",
      "United-States <=50K mean_time: 1.83\n",
      "United-States >50K mean_time: 2.33\n",
      "Vietnam <=50K mean_time: 1.77\n",
      "Vietnam >50K mean_time: 2.0\n",
      "Yugoslavia <=50K mean_time: 1.87\n",
      "Yugoslavia >50K mean_time: 2.25\n"
     ]
    }
   ],
   "source": [
    "for (country, salary), sub_df in data.groupby(['native-country', 'class']):\n",
    "    print(country, salary, 'mean_time:' ,round(sub_df['hoursperweek'].mean(), 2))"
   ]
  },
  {
   "cell_type": "code",
   "execution_count": 22,
   "metadata": {},
   "outputs": [],
   "source": [
    "## Japan: <=50K  ==> mean_time: 1.9\n",
    "## Japan: >50K   ==> mean_time: 2.44"
   ]
  },
  {
   "cell_type": "code",
   "execution_count": 23,
   "metadata": {},
   "outputs": [],
   "source": [
    "## OR"
   ]
  },
  {
   "cell_type": "code",
   "execution_count": 24,
   "metadata": {},
   "outputs": [
    {
     "data": {
      "text/html": [
       "<div>\n",
       "<style scoped>\n",
       "    .dataframe tbody tr th:only-of-type {\n",
       "        vertical-align: middle;\n",
       "    }\n",
       "\n",
       "    .dataframe tbody tr th {\n",
       "        vertical-align: top;\n",
       "    }\n",
       "\n",
       "    .dataframe thead th {\n",
       "        text-align: right;\n",
       "    }\n",
       "</style>\n",
       "<table border=\"1\" class=\"dataframe\">\n",
       "  <thead>\n",
       "    <tr style=\"text-align: right;\">\n",
       "      <th>class</th>\n",
       "      <th>&lt;=50K</th>\n",
       "      <th>&gt;50K</th>\n",
       "    </tr>\n",
       "    <tr>\n",
       "      <th>native-country</th>\n",
       "      <th></th>\n",
       "      <th></th>\n",
       "    </tr>\n",
       "  </thead>\n",
       "  <tbody>\n",
       "    <tr>\n",
       "      <th>False</th>\n",
       "      <td>1.830489</td>\n",
       "      <td>2.332218</td>\n",
       "    </tr>\n",
       "    <tr>\n",
       "      <th>True</th>\n",
       "      <td>1.900000</td>\n",
       "      <td>2.437500</td>\n",
       "    </tr>\n",
       "  </tbody>\n",
       "</table>\n",
       "</div>"
      ],
      "text/plain": [
       "class              <=50K      >50K\n",
       "native-country                    \n",
       "False           1.830489  2.332218\n",
       "True            1.900000  2.437500"
      ]
     },
     "execution_count": 24,
     "metadata": {},
     "output_type": "execute_result"
    }
   ],
   "source": [
    "## Using numpy mean\n",
    "\n",
    "import numpy as np\n",
    "pd.crosstab(data['native-country'] == 'Japan', data['class'], \n",
    "           values=data['hoursperweek'], aggfunc=np.mean)"
   ]
  },
  {
   "cell_type": "code",
   "execution_count": 25,
   "metadata": {},
   "outputs": [],
   "source": [
    "## The mean work time of people of Japan earning more than 50K is 2.4 and less than 50K is 1.9\n",
    "\n",
    "## This also suggest that people of Japan have more mean work time than mean work time for people of other countries considered \n",
    "## together irrespective of salary."
   ]
  }
 ],
 "metadata": {
  "anaconda-cloud": {},
  "kernelspec": {
   "display_name": "Python 3",
   "language": "python",
   "name": "python3"
  },
  "language_info": {
   "codemirror_mode": {
    "name": "ipython",
    "version": 3
   },
   "file_extension": ".py",
   "mimetype": "text/x-python",
   "name": "python",
   "nbconvert_exporter": "python",
   "pygments_lexer": "ipython3",
   "version": "3.8.5"
  }
 },
 "nbformat": 4,
 "nbformat_minor": 1
}
