{
 "cells": [
  {
   "cell_type": "code",
   "execution_count": 30,
   "metadata": {},
   "outputs": [],
   "source": [
    "### Description:\n",
    "\n",
    "# Create a program in Python, to check if a given number is prime.\n",
    "# Add a function to take user input.\n",
    "# Also must have a function where the number is predetermined.\n",
    "# Use if...else\n",
    "# Use loops (Which one? Its your job to think)\n",
    "# If the number is prime or not should be printed as an output.\n",
    "# I need interpretation as comments at each chunk of code.\n"
   ]
  },
  {
   "cell_type": "code",
   "execution_count": 29,
   "metadata": {},
   "outputs": [
    {
     "name": "stdout",
     "output_type": "stream",
     "text": [
      "Enter the number to be checked: 3\n",
      "\n",
      " ( 1 ) 3 is a prime number.\n",
      "\n",
      " ( 2 ) 56 is not a prime number as, 2 * 28 = 56\n",
      "\n",
      " ( 3 ) 13 is a prime number.\n",
      "\n",
      " ( 4 ) 1 is not greater than one, for the number to be evaluated whether it is prime or not it must be greater than one.\n",
      "       1 is neither prime nor composite number.\n",
      "\n",
      " ( 5 ) 8 is not a prime number as, 2 * 4 = 8\n",
      "\n",
      " ( 6 ) 746 is not a prime number as, 2 * 373 = 746\n",
      "\n",
      " ( 7 ) -6 is not greater than one, for the number to be evaluated whether it is prime or not it must be greater than one.\n"
     ]
    }
   ],
   "source": [
    "## Importing numpy\n",
    "import numpy as np\n",
    "\n",
    "## Predetermined numbers\n",
    "def get_num1():\n",
    "    num1=np.array([56,13,1,8,746,-6])\n",
    "    return num1\n",
    "\n",
    "## Take input from user\n",
    "def get_num2():\n",
    "    num2=int(input(\"Enter the number to be checked: \")) \n",
    "    return num2\n",
    "\n",
    "## Creating a single array with predetermined number and number taken from the user\n",
    "num=np.append(get_num2(),get_num1())\n",
    "\n",
    "## To iterate through all the elements of num\n",
    "for j in range(len(num)):\n",
    "  \n",
    "    ## if the no. is greater than 1 then it executes the for loop or if the no. is not greater than 1 then the corresponding \n",
    "    ## last else is executed. \n",
    "    if (num[j]>1):\n",
    "        \n",
    "        ## iterating over 2 to given number\n",
    "        for i in range(2,num[j]):\n",
    "            \n",
    "            ## if number is divisible by any number between 2 to given number\n",
    "            ## then it is not prime number.\n",
    "            if (num[j]%i)==0:\n",
    "                print(\"\\n\",\"(\",j+1,\")\",num[j] ,\"is not a prime number as,\",i,\"*\",num[j]//i,\"=\",num[j])\n",
    "                #break is used to terminate the loop if the condition is satisfied.\n",
    "                break     \n",
    "\n",
    "            ## If the condition (num%i)!=0 is true then the number is prime.     \n",
    "            else:\n",
    "                print(\"\\n\",\"(\",j+1,\")\",num[j],\"is a prime number.\")\n",
    "                break\n",
    "    else:\n",
    "        print(\"\\n\",\"(\",j+1,\")\",num[j],\"is not greater than one, for the number to be evaluated whether\",\n",
    "              \"it is prime or not it must be greater than one.\")\n",
    "\n",
    "## Check if the given number is 1.\n",
    "## 1 is neither prime nor composite.\n",
    "\n",
    "    if (num[j]==1):   \n",
    "        print(\"      \",\"1 is neither prime nor composite number.\")\n",
    " \n"
   ]
  }
 ],
 "metadata": {
  "kernelspec": {
   "display_name": "Python 3",
   "language": "python",
   "name": "python3"
  },
  "language_info": {
   "codemirror_mode": {
    "name": "ipython",
    "version": 3
   },
   "file_extension": ".py",
   "mimetype": "text/x-python",
   "name": "python",
   "nbconvert_exporter": "python",
   "pygments_lexer": "ipython3",
   "version": "3.8.5"
  }
 },
 "nbformat": 4,
 "nbformat_minor": 4
}
