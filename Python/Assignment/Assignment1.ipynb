{
 "cells": [
  {
   "cell_type": "markdown",
   "metadata": {},
   "source": [
    "# Assignment 1 "
   ]
  },
  {
   "cell_type": "code",
   "execution_count": 2,
   "metadata": {},
   "outputs": [],
   "source": [
    "# 1)Import the Numpy package under the name np\n",
    "\n",
    "import numpy as np"
   ]
  },
  {
   "cell_type": "code",
   "execution_count": 2,
   "metadata": {},
   "outputs": [
    {
     "name": "stdout",
     "output_type": "stream",
     "text": [
      "[0. 0. 0. 0. 0. 0. 0. 0. 0. 0.]\n"
     ]
    }
   ],
   "source": [
    "## 2)Create a null vector of size 10\n",
    "\n",
    "x=np.zeros(10)\n",
    "print(x)"
   ]
  },
  {
   "cell_type": "code",
   "execution_count": 3,
   "metadata": {},
   "outputs": [
    {
     "name": "stdout",
     "output_type": "stream",
     "text": [
      "[0. 0. 0. 0. 1. 0. 0. 0. 0. 0.]\n"
     ]
    }
   ],
   "source": [
    "## 3)Create a null vector of size 10 but the fifth value which is 1\n",
    "\n",
    "x[4]=1\n",
    "print(x)"
   ]
  },
  {
   "cell_type": "code",
   "execution_count": 4,
   "metadata": {},
   "outputs": [
    {
     "name": "stdout",
     "output_type": "stream",
     "text": [
      "[10 11 12 13 14 15 16 17 18 19 20 21 22 23 24 25 26 27 28 29 30 31 32 33\n",
      " 34 35 36 37 38 39 40 41 42 43 44 45 46 47 48 49]\n"
     ]
    }
   ],
   "source": [
    "## 4)Create a vector with values ranging from 10 to 49\n",
    "\n",
    "vec=np.arange(10,50)\n",
    "print(vec)"
   ]
  },
  {
   "cell_type": "code",
   "execution_count": 5,
   "metadata": {},
   "outputs": [
    {
     "name": "stdout",
     "output_type": "stream",
     "text": [
      "[49 48 47 46 45 44 43 42 41 40 39 38 37 36 35 34 33 32 31 30 29 28 27 26\n",
      " 25 24 23 22 21 20 19 18 17 16 15 14 13 12 11 10]\n"
     ]
    }
   ],
   "source": [
    "## 5)Reverse a vector (the first element becomes last)\n",
    "\n",
    "rev=np.flip(vec)\n",
    "print(rev)\n"
   ]
  },
  {
   "cell_type": "code",
   "execution_count": 6,
   "metadata": {},
   "outputs": [
    {
     "data": {
      "text/plain": [
       "array([[0, 1, 2],\n",
       "       [3, 4, 5],\n",
       "       [6, 7, 8]])"
      ]
     },
     "execution_count": 6,
     "metadata": {},
     "output_type": "execute_result"
    }
   ],
   "source": [
    "## 6)Create a 3x3 matrix with values ranging from 0 to 8\n",
    "\n",
    "np.arange(0,9).reshape(3,3)"
   ]
  },
  {
   "cell_type": "code",
   "execution_count": 5,
   "metadata": {},
   "outputs": [
    {
     "data": {
      "text/plain": [
       "(array([0, 1, 4], dtype=int64),)"
      ]
     },
     "execution_count": 5,
     "metadata": {},
     "output_type": "execute_result"
    }
   ],
   "source": [
    "## 7)Find indices of non­zero elements from [1,2,0,0,4,0]\n",
    "\n",
    "arr=[1,2,0,0,4,0]\n",
    "np.nonzero(arr)"
   ]
  },
  {
   "cell_type": "code",
   "execution_count": 7,
   "metadata": {},
   "outputs": [
    {
     "data": {
      "text/plain": [
       "array([[[0.79051461, 0.44624775, 0.60333989],\n",
       "        [0.32165979, 0.23583453, 0.74175578],\n",
       "        [0.57985347, 0.57713423, 0.40036407]],\n",
       "\n",
       "       [[0.66623162, 0.63807613, 0.92298881],\n",
       "        [0.65840579, 0.19090695, 0.85732251],\n",
       "        [0.22845305, 0.86042848, 0.64467011]],\n",
       "\n",
       "       [[0.61923576, 0.10473675, 0.75467649],\n",
       "        [0.3157409 , 0.18719277, 0.78462345],\n",
       "        [0.53080401, 0.2904856 , 0.58769958]]])"
      ]
     },
     "execution_count": 7,
     "metadata": {},
     "output_type": "execute_result"
    }
   ],
   "source": [
    "## 8)Create a 3x3x3 array with random values\n",
    "\n",
    "np.random.random((3,3,3))"
   ]
  },
  {
   "cell_type": "code",
   "execution_count": 8,
   "metadata": {},
   "outputs": [
    {
     "name": "stdout",
     "output_type": "stream",
     "text": [
      "0.42186283406707487\n"
     ]
    }
   ],
   "source": [
    "## 9)Create a random vector of size 30 and find the mean value\n",
    "\n",
    "x=np.random.random(30)\n",
    "mean=x.mean()\n",
    "print(mean)"
   ]
  },
  {
   "cell_type": "code",
   "execution_count": 9,
   "metadata": {},
   "outputs": [
    {
     "name": "stdout",
     "output_type": "stream",
     "text": [
      "[[1. 1. 1. 1. 1.]\n",
      " [1. 0. 0. 0. 1.]\n",
      " [1. 0. 0. 0. 1.]\n",
      " [1. 1. 1. 1. 1.]]\n"
     ]
    }
   ],
   "source": [
    "## 10)Create a 2d array with 1 on the border and 0 inside\n",
    "\n",
    "x=np.ones((4,5))\n",
    "x[1:-1,1:-1] = 0\n",
    "print(x)"
   ]
  },
  {
   "cell_type": "code",
   "execution_count": 27,
   "metadata": {},
   "outputs": [
    {
     "name": "stdout",
     "output_type": "stream",
     "text": [
      "[[0 1 0 1 0 1 0 1]\n",
      " [1 0 1 0 1 0 1 0]\n",
      " [0 1 0 1 0 1 0 1]\n",
      " [1 0 1 0 1 0 1 0]\n",
      " [0 1 0 1 0 1 0 1]\n",
      " [1 0 1 0 1 0 1 0]\n",
      " [0 1 0 1 0 1 0 1]\n",
      " [1 0 1 0 1 0 1 0]]\n"
     ]
    }
   ],
   "source": [
    "## 11)Create an 8x8 matrix and fill it with a checkerboard pattern\n",
    "\n",
    "Z=np.zeros((8,8), dtype=int)\n",
    "Z[1::2, ::2]=1\n",
    "Z[::2, 1::2]=1\n",
    "print (Z)"
   ]
  },
  {
   "cell_type": "code",
   "execution_count": 10,
   "metadata": {},
   "outputs": [],
   "source": [
    "## 12)What is the major difference between sets, lists, tuples and dictionaries?\n",
    "\n",
    "# List is a non-homogeneous data structure which stores the elements in single row and multiple rows and columns\n",
    "# List allows duplicate elements. List is enclosed in []. List are mutable.\n",
    "\n",
    "# Tuple is also a non-homogeneous data structure which stores single row and multiple rows and columns.\n",
    "# Tuple allows duplicate elements. It is enclosed in (). Tuples are immutable.\n",
    "\n",
    "# Set data structure is also non-homogeneous data structure but stores in single row.\n",
    "# Set will not allow duplicate elements. Set is enclosed by {}. SETS are unordered while other are orderd.\n",
    "\n",
    "# Dictionary is also a non-homogeneous data structure which stores key value pairs, in which the key cannot be dublicated.\n",
    "# Dictionary is enclosed by {}."
   ]
  },
  {
   "cell_type": "code",
   "execution_count": 31,
   "metadata": {},
   "outputs": [
    {
     "name": "stdout",
     "output_type": "stream",
     "text": [
      "1 2 3 4 5 6 7 8 9 10 "
     ]
    }
   ],
   "source": [
    "## 13)Print first 10 natural numbers using while loop.\n",
    "\n",
    "i=1\n",
    "while ( i <= 10):\n",
    "    print (i, end = ' ')\n",
    "    i= i+1"
   ]
  },
  {
   "cell_type": "code",
   "execution_count": 29,
   "metadata": {},
   "outputs": [
    {
     "name": "stdout",
     "output_type": "stream",
     "text": [
      "-10 -9 -8 -7 -6 -5 -4 -3 -2 -1 "
     ]
    }
   ],
   "source": [
    "## 14)Print the numbers -10 to -1 using for loop.\n",
    "\n",
    "for i in range(-10,0):\n",
    "    print(i, end=\" \")\n"
   ]
  },
  {
   "cell_type": "code",
   "execution_count": 13,
   "metadata": {},
   "outputs": [
    {
     "name": "stdout",
     "output_type": "stream",
     "text": [
      "67 * 1 = 67\n",
      "67 * 2 = 134\n",
      "67 * 3 = 201\n",
      "67 * 4 = 268\n",
      "67 * 5 = 335\n",
      "67 * 6 = 402\n",
      "67 * 7 = 469\n",
      "67 * 8 = 536\n",
      "67 * 9 = 603\n",
      "67 * 10 = 670\n",
      "Done\n"
     ]
    }
   ],
   "source": [
    "## 15)Print the message “Done” after successful execution of any for a loop. \n",
    "\n",
    "for i in range(1,11):\n",
    "    prod=67*i\n",
    "    print(67,\"*\",i,\"=\",prod)\n",
    "print(\"Done\")"
   ]
  },
  {
   "cell_type": "code",
   "execution_count": 25,
   "metadata": {},
   "outputs": [
    {
     "name": "stdout",
     "output_type": "stream",
     "text": [
      "[0.53117722 0.53856769 0.35952555 0.25835318 0.21517094 0.02132967\n",
      " 0.75312526 0.7541529  0.72675722 0.27505272]\n",
      "\n",
      " [0.02132967 0.21517094 0.25835318 0.27505272 0.35952555 0.53117722\n",
      " 0.53856769 0.72675722 0.75312526 0.7541529 ]\n"
     ]
    }
   ],
   "source": [
    "## 16)Create a random vector of size 10 and sort it.\n",
    "\n",
    "Z=np.random.random(10)\n",
    "print(Z)\n",
    "Z.sort()\n",
    "print(\"\\n\",Z)\n"
   ]
  },
  {
   "cell_type": "code",
   "execution_count": 15,
   "metadata": {},
   "outputs": [
    {
     "name": "stdout",
     "output_type": "stream",
     "text": [
      "2.0\n",
      "24\n",
      "113.09733552923255\n"
     ]
    }
   ],
   "source": [
    "## 17)Execute any three math functions using NumPy.\n",
    "\n",
    "import math\n",
    "print(math.remainder(47,9))\n",
    "\n",
    "print(math.factorial(4))\n",
    "\n",
    "r=6\n",
    "area=math.pi*6*6\n",
    "print(area)\n"
   ]
  }
 ],
 "metadata": {
  "kernelspec": {
   "display_name": "Python 3",
   "language": "python",
   "name": "python3"
  },
  "language_info": {
   "codemirror_mode": {
    "name": "ipython",
    "version": 3
   },
   "file_extension": ".py",
   "mimetype": "text/x-python",
   "name": "python",
   "nbconvert_exporter": "python",
   "pygments_lexer": "ipython3",
   "version": "3.8.5"
  }
 },
 "nbformat": 4,
 "nbformat_minor": 4
}
