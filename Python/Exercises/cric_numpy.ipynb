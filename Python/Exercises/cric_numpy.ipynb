{
 "cells": [
  {
   "cell_type": "markdown",
   "metadata": {},
   "source": [
    "## Evaluating Cricket data using numpy"
   ]
  },
  {
   "cell_type": "code",
   "execution_count": null,
   "metadata": {},
   "outputs": [],
   "source": [
    "#Importing data using numpy\n",
    "import numpy as np\n",
    "data=np.loadtxt(r\"F:\\Padhai\\Numpy\\cric.tsv\",skiprows=1)"
   ]
  },
  {
   "cell_type": "code",
   "execution_count": 2,
   "metadata": {},
   "outputs": [],
   "source": [
    "# Removing unwanted column\n",
    "data=data[:,[1,2,3]]"
   ]
  },
  {
   "cell_type": "code",
   "execution_count": 3,
   "metadata": {},
   "outputs": [
    {
     "name": "stdout",
     "output_type": "stream",
     "text": [
      "<class 'numpy.ndarray'>\n"
     ]
    }
   ],
   "source": [
    "# Checking the type of data\n",
    "print(type(data))"
   ]
  },
  {
   "cell_type": "code",
   "execution_count": 4,
   "metadata": {},
   "outputs": [
    {
     "data": {
      "text/plain": [
       "(225, 3)"
      ]
     },
     "execution_count": 4,
     "metadata": {},
     "output_type": "execute_result"
    }
   ],
   "source": [
    "#Getting dimension of data\n",
    "data.shape"
   ]
  },
  {
   "cell_type": "code",
   "execution_count": 5,
   "metadata": {},
   "outputs": [],
   "source": [
    "# Naming the data score wise \n",
    "sachin=data[:,0]\n",
    "rahul=data[:,1]\n",
    "India=data[:,2]"
   ]
  },
  {
   "cell_type": "code",
   "execution_count": null,
   "metadata": {},
   "outputs": [],
   "source": [
    "#1. Find mean, median, IQR for Sachin, Rahul, and India"
   ]
  },
  {
   "cell_type": "code",
   "execution_count": 6,
   "metadata": {},
   "outputs": [],
   "source": [
    "def stat(col):\n",
    "    print('Mean',np.mean(col))\n",
    "    print('Median',np.median(col))\n",
    "    print('IQR',np.percentile(col,75)-np.percentile(col,25))"
   ]
  },
  {
   "cell_type": "code",
   "execution_count": 7,
   "metadata": {},
   "outputs": [
    {
     "name": "stdout",
     "output_type": "stream",
     "text": [
      "Mean 39.87555555555556\n",
      "Median 27.0\n",
      "IQR 57.0\n"
     ]
    }
   ],
   "source": [
    "stat(sachin)"
   ]
  },
  {
   "cell_type": "code",
   "execution_count": 8,
   "metadata": {},
   "outputs": [
    {
     "name": "stdout",
     "output_type": "stream",
     "text": [
      "Mean 32.062222222222225\n",
      "Median 22.0\n",
      "IQR 46.0\n"
     ]
    }
   ],
   "source": [
    "stat(rahul)"
   ]
  },
  {
   "cell_type": "code",
   "execution_count": 9,
   "metadata": {},
   "outputs": [
    {
     "name": "stdout",
     "output_type": "stream",
     "text": [
      "Mean 220.79555555555555\n",
      "Median 216.0\n",
      "IQR 98.0\n"
     ]
    }
   ],
   "source": [
    "stat(India)"
   ]
  },
  {
   "cell_type": "code",
   "execution_count": null,
   "metadata": {},
   "outputs": [],
   "source": [
    "# 2.Find the histogram of Sachin's scores with 10 bins."
   ]
  },
  {
   "cell_type": "code",
   "execution_count": 10,
   "metadata": {},
   "outputs": [
    {
     "data": {
      "text/plain": [
       "(array([99, 36, 28, 16, 11, 17,  8,  8,  1,  1], dtype=int64),\n",
       " array([  0. ,  18.6,  37.2,  55.8,  74.4,  93. , 111.6, 130.2, 148.8,\n",
       "        167.4, 186. ]))"
      ]
     },
     "execution_count": 10,
     "metadata": {},
     "output_type": "execute_result"
    }
   ],
   "source": [
    "# Histogram using numpy\n",
    "np.histogram(sachin)"
   ]
  },
  {
   "cell_type": "code",
   "execution_count": 11,
   "metadata": {},
   "outputs": [
    {
     "data": {
      "text/plain": [
       "(array([99., 36., 28., 16., 11., 17.,  8.,  8.,  1.,  1.]),\n",
       " array([  0. ,  18.6,  37.2,  55.8,  74.4,  93. , 111.6, 130.2, 148.8,\n",
       "        167.4, 186. ]),\n",
       " <BarContainer object of 10 artists>)"
      ]
     },
     "execution_count": 11,
     "metadata": {},
     "output_type": "execute_result"
    },
    {
     "data": {
      "image/png": "[encoded data removed]",
      "text/plain": [
       "<Figure size 432x288 with 1 Axes>"
      ]
     },
     "metadata": {
      "needs_background": "light"
     },
     "output_type": "display_data"
    }
   ],
   "source": [
    "# np.histogram() is similar to plt.hist() in matplotlib\n",
    "from matplotlib import pyplot as plt\n",
    "plt.hist(sachin)"
   ]
  },
  {
   "cell_type": "code",
   "execution_count": null,
   "metadata": {},
   "outputs": [],
   "source": [
    "# 3.Find mean of Sachin's scores grouped by 25 matches."
   ]
  },
  {
   "cell_type": "code",
   "execution_count": 12,
   "metadata": {},
   "outputs": [
    {
     "data": {
      "text/plain": [
       "(225,)"
      ]
     },
     "execution_count": 12,
     "metadata": {},
     "output_type": "execute_result"
    }
   ],
   "source": [
    "sachin.shape"
   ]
  },
  {
   "cell_type": "code",
   "execution_count": 13,
   "metadata": {},
   "outputs": [
    {
     "data": {
      "text/plain": [
       "array([[100.,  11.,   8.,  71., 104.,  18.,   8.,  86.,  12.],\n",
       "       [ 85.,  18.,   4.,   7.,  37.,  14.,   0.,   4.,   0.],\n",
       "       [ 21.,   1.,  62.,   0., 138.,  38.,   2.,  46.,  65.],\n",
       "       [  0.,  39.,  48., 141.,  62.,  12.,   1.,  41.,  11.],\n",
       "       [  3., 186.,  11.,  27.,  27.,  51.,  18.,  32., 146.],\n",
       "       [  5.,  45., 141.,  12.,  65.,  27.,   7.,  16.,   2.],\n",
       "       [ 28.,   6., 123., 120.,   7.,   3.,   0.,  81.,   2.],\n",
       "       [ 54., 122.,   4.,  14.,   0., 100.,  15.,   0.,  57.],\n",
       "       [ 99.,  37.,  38.,  32.,  21.,  32.,  40.,   0.,   5.],\n",
       "       [  8.,   5.,   0.,  50.,  30.,  37.,  89.,   4.,  98.],\n",
       "       [ 83.,  93.,   0.,  52., 152.,   1.,   8.,  93.,  45.],\n",
       "       [ 26.,   0.,   1.,   0.,  16.,  47.,  89.,   3.,   1.],\n",
       "       [ 53.,  16.,   0.,  81.,  14.,  78.,   6., 105., 122.],\n",
       "       [  9.,   8.,  28.,  35.,  69.,  13.,  97.,  93.,   2.],\n",
       "       [ 36.,  39.,   2.,  29.,  12.,  19.,  34.,   2., 100.],\n",
       "       [ 44.,  82.,   0.,  79.,   6.,   9.,   8.,  23.,  93.],\n",
       "       [ 35.,  63.,  74.,   8., 117.,  39.,  49.,  64.,  43.],\n",
       "       [ 72.,   5.,  17.,   0.,  65.,  20., 141.,  28.,  44.],\n",
       "       [ 27.,  60.,  68.,   3., 139.,  31.,   2.,  44.,  47.],\n",
       "       [  6.,  17.,  35.,  88., 114.,   7., 127.,   0.,  45.],\n",
       "       [ 33., 110., 146.,   7.,  25.,   9.,   2.,  11.,  17.],\n",
       "       [ 14.,   1.,  45.,  94.,  28.,   4.,  62.,   1.,   9.],\n",
       "       [ 67.,  10.,  99.,  55.,   0.,   1., 101.,   2.,   1.],\n",
       "       [ 16., 140.,  23., 113.,  10.,   1.,  41.,   1.,  28.],\n",
       "       [  2.,  22.,  29.,   1.,  25., 102.,   0.,  27.,  40.]])"
      ]
     },
     "execution_count": 13,
     "metadata": {},
     "output_type": "execute_result"
    }
   ],
   "source": [
    "# Arranging the data in 25*9 form\n",
    "sachin_25=sachin.reshape(25,9)\n",
    "sachin_25"
   ]
  },
  {
   "cell_type": "code",
   "execution_count": 14,
   "metadata": {},
   "outputs": [
    {
     "data": {
      "text/plain": [
       "(25, 9)"
      ]
     },
     "execution_count": 14,
     "metadata": {},
     "output_type": "execute_result"
    }
   ],
   "source": [
    "sachin_25.reshape(25,9).shape"
   ]
  },
  {
   "cell_type": "code",
   "execution_count": 15,
   "metadata": {},
   "outputs": [
    {
     "data": {
      "text/plain": [
       "array([37.04, 45.44, 40.24, 44.76, 51.32, 28.52, 37.88, 32.28, 41.4 ])"
      ]
     },
     "execution_count": 15,
     "metadata": {},
     "output_type": "execute_result"
    }
   ],
   "source": [
    "# Finding the mean of data column wise.\n",
    "np.mean(sachin_25,axis=0)"
   ]
  },
  {
   "cell_type": "code",
   "execution_count": null,
   "metadata": {},
   "outputs": [],
   "source": [
    "#4. Find mean of Sachin's scores where he has scored a century."
   ]
  },
  {
   "cell_type": "code",
   "execution_count": 16,
   "metadata": {},
   "outputs": [
    {
     "data": {
      "text/plain": [
       "125.0"
      ]
     },
     "execution_count": 16,
     "metadata": {},
     "output_type": "execute_result"
    }
   ],
   "source": [
    "np.mean(sachin[sachin>=100])"
   ]
  },
  {
   "cell_type": "code",
   "execution_count": null,
   "metadata": {},
   "outputs": [],
   "source": [
    "#5. Find mean of Sachin's scores when Rahul has scored less than 10."
   ]
  },
  {
   "cell_type": "code",
   "execution_count": 17,
   "metadata": {},
   "outputs": [
    {
     "data": {
      "text/plain": [
       "40.2112676056338"
      ]
     },
     "execution_count": 17,
     "metadata": {},
     "output_type": "execute_result"
    }
   ],
   "source": [
    "np.mean(sachin[rahul<=10])"
   ]
  },
  {
   "cell_type": "code",
   "execution_count": 18,
   "metadata": {},
   "outputs": [],
   "source": [
    "#6. Find mean for Sachin's scores based on which quartile India's score falls in."
   ]
  },
  {
   "cell_type": "code",
   "execution_count": 19,
   "metadata": {},
   "outputs": [
    {
     "data": {
      "text/plain": [
       "array([175., 216., 273., 499.])"
      ]
     },
     "execution_count": 19,
     "metadata": {},
     "output_type": "execute_result"
    }
   ],
   "source": [
    "#Finding percentiles score of India.\n",
    "ind_percentile=np.percentile(India,[25,50,75,100])\n",
    "ind_percentile"
   ]
  },
  {
   "cell_type": "code",
   "execution_count": 21,
   "metadata": {},
   "outputs": [
    {
     "data": {
      "text/plain": [
       "(225,)"
      ]
     },
     "execution_count": 21,
     "metadata": {},
     "output_type": "execute_result"
    }
   ],
   "source": [
    "India.shape"
   ]
  },
  {
   "cell_type": "code",
   "execution_count": 22,
   "metadata": {},
   "outputs": [
    {
     "data": {
      "text/plain": [
       "(4,)"
      ]
     },
     "execution_count": 22,
     "metadata": {},
     "output_type": "execute_result"
    }
   ],
   "source": [
    "ind_percentile.shape"
   ]
  },
  {
   "cell_type": "code",
   "execution_count": 23,
   "metadata": {},
   "outputs": [
    {
     "data": {
      "text/plain": [
       "array([[175.],\n",
       "       [216.],\n",
       "       [273.],\n",
       "       [499.]])"
      ]
     },
     "execution_count": 23,
     "metadata": {},
     "output_type": "execute_result"
    }
   ],
   "source": [
    "# Rearranging the array for bradcasting purpose\n",
    "quar=ind_percentile.reshape(4,1)\n",
    "quar"
   ]
  },
  {
   "cell_type": "code",
   "execution_count": 24,
   "metadata": {},
   "outputs": [],
   "source": [
    "indices=India<quar"
   ]
  },
  {
   "cell_type": "code",
   "execution_count": 25,
   "metadata": {},
   "outputs": [
    {
     "data": {
      "text/plain": [
       "(4, 225)"
      ]
     },
     "execution_count": 25,
     "metadata": {},
     "output_type": "execute_result"
    }
   ],
   "source": [
    "indices.shape"
   ]
  },
  {
   "cell_type": "code",
   "execution_count": 26,
   "metadata": {},
   "outputs": [
    {
     "data": {
      "text/plain": [
       "array([ 11.,  18.,  14.,   4.,   0.,  21.,  62.,   2.,  46.,  65.,   0.,\n",
       "        39.,  48.,   3.,  11.,   5.,  65.,  27.,   7.,   2.,  28.,   6.,\n",
       "         7.,   3.,   2.,   4., 100.,  15.,  32.,  40.,   0.,   5.,   8.,\n",
       "         5.,   0.,  30.,  37.,  89.,   0.,  52.,  93.,  45.,   0.,   1.,\n",
       "         0.,   3.,   0.,  81.,  78.,   6.,  28.,  13.,  93.,   2.,  36.,\n",
       "         2.,  12.,  19.,  34.,   2.,  82.,   0.,   6.,   8.,  23.,  35.,\n",
       "        74., 117.,  49.,  64.,   5.,  17.,   0.,  44.,  68.,   3.,  47.,\n",
       "        17.,  35.,  88., 127.,   0.,  45.,  33., 110.,   7.,  25.,   9.,\n",
       "         2.,  11.,  17.,   1.,  45.,   9.,  67.,  10.,  55.,   0.,   1.,\n",
       "       101.,  23.,   1.,  41.,   1.,  28.,   2.,  22.,  25.,   0.,  27.,\n",
       "        40.])"
      ]
     },
     "execution_count": 26,
     "metadata": {},
     "output_type": "execute_result"
    }
   ],
   "source": [
    "sachin[indices[1,:]]"
   ]
  },
  {
   "cell_type": "code",
   "execution_count": 27,
   "metadata": {},
   "outputs": [
    {
     "name": "stdout",
     "output_type": "stream",
     "text": [
      "0 19.672727272727272\n",
      "1 28.18018018018018\n",
      "2 31.688622754491018\n",
      "3 39.799107142857146\n"
     ]
    }
   ],
   "source": [
    "# Mean of Sachin's score based on Indias percentile score\n",
    "for i in range(4):\n",
    "    print(i, np.mean(sachin[indices[i]]))"
   ]
  },
  {
   "cell_type": "code",
   "execution_count": 28,
   "metadata": {},
   "outputs": [],
   "source": [
    "#7.For every match find out who has has scored more - Sachin or Rahul"
   ]
  },
  {
   "cell_type": "code",
   "execution_count": 29,
   "metadata": {},
   "outputs": [
    {
     "data": {
      "text/plain": [
       "array([ True, False, False,  True,  True, False, False,  True, False,\n",
       "        True, False, False, False,  True,  True, False, False, False,\n",
       "       False, False,  True, False,  True,  True, False,  True,  True,\n",
       "       False,  True,  True,  True,  True, False, False,  True, False,\n",
       "       False,  True, False,  True,  True,  True,  True, False,  True,\n",
       "       False, False,  True, False,  True, False, False, False, False,\n",
       "        True, False,  True,  True, False, False, False,  True, False,\n",
       "        True,  True,  True,  True, False,  True, False, False,  True,\n",
       "        True, False, False,  True, False, False,  True, False, False,\n",
       "       False, False, False, False,  True,  True,  True, False,  True,\n",
       "        True,  True, False,  True,  True, False, False,  True, False,\n",
       "        True, False, False, False, False, False,  True, False, False,\n",
       "        True, False, False,  True, False,  True, False,  True,  True,\n",
       "        True, False,  True, False,  True,  True,  True,  True, False,\n",
       "        True, False, False,  True,  True, False,  True, False,  True,\n",
       "        True,  True, False,  True,  True, False, False, False,  True,\n",
       "        True,  True,  True, False,  True, False,  True,  True,  True,\n",
       "        True, False, False, False,  True, False,  True, False,  True,\n",
       "       False,  True,  True, False,  True, False, False,  True,  True,\n",
       "       False,  True,  True,  True,  True, False,  True, False, False,\n",
       "        True,  True,  True,  True, False, False, False,  True, False,\n",
       "       False, False, False,  True, False, False,  True, False, False,\n",
       "        True, False,  True,  True, False, False,  True, False, False,\n",
       "       False,  True,  True,  True, False, False,  True, False,  True,\n",
       "       False, False, False, False,  True,  True, False,  True,  True])"
      ]
     },
     "execution_count": 29,
     "metadata": {},
     "output_type": "execute_result"
    }
   ],
   "source": [
    "scr=sachin>rahul\n",
    "scr"
   ]
  },
  {
   "cell_type": "code",
   "execution_count": 30,
   "metadata": {},
   "outputs": [
    {
     "data": {
      "text/plain": [
       "array(['sachin', 'rahul', 'rahul', 'sachin', 'sachin', 'rahul', 'rahul',\n",
       "       'sachin', 'rahul', 'sachin', 'rahul', 'rahul', 'rahul', 'sachin',\n",
       "       'sachin', 'rahul', 'rahul', 'rahul', 'rahul', 'rahul', 'sachin',\n",
       "       'rahul', 'sachin', 'sachin', 'rahul', 'sachin', 'sachin', 'rahul',\n",
       "       'sachin', 'sachin', 'sachin', 'sachin', 'rahul', 'rahul', 'sachin',\n",
       "       'rahul', 'rahul', 'sachin', 'rahul', 'sachin', 'sachin', 'sachin',\n",
       "       'sachin', 'rahul', 'sachin', 'rahul', 'rahul', 'sachin', 'rahul',\n",
       "       'sachin', 'rahul', 'rahul', 'rahul', 'rahul', 'sachin', 'rahul',\n",
       "       'sachin', 'sachin', 'rahul', 'rahul', 'rahul', 'sachin', 'rahul',\n",
       "       'sachin', 'sachin', 'sachin', 'sachin', 'rahul', 'sachin', 'rahul',\n",
       "       'rahul', 'sachin', 'sachin', 'rahul', 'rahul', 'sachin', 'rahul',\n",
       "       'rahul', 'sachin', 'rahul', 'rahul', 'rahul', 'rahul', 'rahul',\n",
       "       'rahul', 'sachin', 'sachin', 'sachin', 'rahul', 'sachin', 'sachin',\n",
       "       'sachin', 'rahul', 'sachin', 'sachin', 'rahul', 'rahul', 'sachin',\n",
       "       'rahul', 'sachin', 'rahul', 'rahul', 'rahul', 'rahul', 'rahul',\n",
       "       'sachin', 'rahul', 'rahul', 'sachin', 'rahul', 'rahul', 'sachin',\n",
       "       'rahul', 'sachin', 'rahul', 'sachin', 'sachin', 'sachin', 'rahul',\n",
       "       'sachin', 'rahul', 'sachin', 'sachin', 'sachin', 'sachin', 'rahul',\n",
       "       'sachin', 'rahul', 'rahul', 'sachin', 'sachin', 'rahul', 'sachin',\n",
       "       'rahul', 'sachin', 'sachin', 'sachin', 'rahul', 'sachin', 'sachin',\n",
       "       'rahul', 'rahul', 'rahul', 'sachin', 'sachin', 'sachin', 'sachin',\n",
       "       'rahul', 'sachin', 'rahul', 'sachin', 'sachin', 'sachin', 'sachin',\n",
       "       'rahul', 'rahul', 'rahul', 'sachin', 'rahul', 'sachin', 'rahul',\n",
       "       'sachin', 'rahul', 'sachin', 'sachin', 'rahul', 'sachin', 'rahul',\n",
       "       'rahul', 'sachin', 'sachin', 'rahul', 'sachin', 'sachin', 'sachin',\n",
       "       'sachin', 'rahul', 'sachin', 'rahul', 'rahul', 'sachin', 'sachin',\n",
       "       'sachin', 'sachin', 'rahul', 'rahul', 'rahul', 'sachin', 'rahul',\n",
       "       'rahul', 'rahul', 'rahul', 'sachin', 'rahul', 'rahul', 'sachin',\n",
       "       'rahul', 'rahul', 'sachin', 'rahul', 'sachin', 'sachin', 'rahul',\n",
       "       'rahul', 'sachin', 'rahul', 'rahul', 'rahul', 'sachin', 'sachin',\n",
       "       'sachin', 'rahul', 'rahul', 'sachin', 'rahul', 'sachin', 'rahul',\n",
       "       'rahul', 'rahul', 'rahul', 'sachin', 'sachin', 'rahul', 'sachin',\n",
       "       'sachin'], dtype='<U6')"
      ]
     },
     "execution_count": 30,
     "metadata": {},
     "output_type": "execute_result"
    }
   ],
   "source": [
    "np.where(scr==True,'sachin','rahul')"
   ]
  }
 ],
 "metadata": {
  "kernelspec": {
   "display_name": "Python 3",
   "language": "python",
   "name": "python3"
  },
  "language_info": {
   "codemirror_mode": {
    "name": "ipython",
    "version": 3
   },
   "file_extension": ".py",
   "mimetype": "text/x-python",
   "name": "python",
   "nbconvert_exporter": "python",
   "pygments_lexer": "ipython3",
   "version": "3.8.5"
  }
 },
 "nbformat": 4,
 "nbformat_minor": 4
}
